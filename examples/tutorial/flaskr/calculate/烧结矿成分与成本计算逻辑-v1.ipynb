{
 "cells": [
  {
   "cell_type": "code",
   "execution_count": 2,
   "id": "17c2c675",
   "metadata": {},
   "outputs": [],
   "source": [
    "import pandas as pd\n",
    "import numpy as np"
   ]
  },
  {
   "cell_type": "code",
   "execution_count": 3,
   "id": "474a80cc",
   "metadata": {},
   "outputs": [],
   "source": [
    "l_ele = [\n",
    "    'TFe',\n",
    "    'SiO2',\n",
    "    'Al2O3',\n",
    "    'S',\n",
    "    'P',\n",
    "    'TiO2',\n",
    "    'MnO',\n",
    "    'MgO',\n",
    "    'CaO',\n",
    "    'K2O',\n",
    "    'Na2O',\n",
    "    'ZnO',\n",
    "    'H2O',\n",
    "    'As',\n",
    "    'Cr',\n",
    "    'FeO',\n",
    "]"
   ]
  },
  {
   "cell_type": "code",
   "execution_count": 4,
   "id": "39ac9a00",
   "metadata": {},
   "outputs": [],
   "source": [
    "## 输入1\n",
    "#返矿配比\n",
    "alpha = 0.155\n",
    "#入炉结构\n",
    "pp_S = 90\n",
    "pp_Q = 5\n",
    "pp_K = 5\n",
    "#烧损\n",
    "LOI_delta = np.array([alpha * 100]*len(l_ele)).reshape(16,1)"
   ]
  },
  {
   "cell_type": "code",
   "execution_count": 5,
   "id": "ca6226e6",
   "metadata": {},
   "outputs": [],
   "source": [
    "## 输入2\n",
    "df = pd.read_excel(\"Sample_data1.xlsx\")\n",
    "df.fillna(0, inplace = True)"
   ]
  },
  {
   "cell_type": "code",
   "execution_count": 6,
   "id": "667f547e",
   "metadata": {},
   "outputs": [],
   "source": []
  },
  {
   "cell_type": "code",
   "execution_count": 7,
   "id": "bef4324a",
   "metadata": {},
   "outputs": [],
   "source": [
    "E = df.iloc[:-2,:][l_ele].T.values"
   ]
  },
  {
   "cell_type": "code",
   "execution_count": 8,
   "id": "6d3eece1",
   "metadata": {},
   "outputs": [],
   "source": [
    "S_v = [1]*len(l_ele)\n",
    "S_v[2] = 0.22\n",
    "S = np.diag(S_v)"
   ]
  },
  {
   "cell_type": "code",
   "execution_count": 9,
   "id": "d844f07b",
   "metadata": {},
   "outputs": [],
   "source": [
    "K = np.diag((df.iloc[-1,:][l_ele]*pp_K/100 + df.iloc[-2,:][l_ele]*pp_Q/100).tolist())"
   ]
  },
  {
   "cell_type": "code",
   "execution_count": 10,
   "id": "cb2d18bf",
   "metadata": {},
   "outputs": [],
   "source": [
    "LOI = np.array([df.iloc[:-2,:][\"烧存\"].values.tolist()]*len(l_ele))"
   ]
  },
  {
   "cell_type": "code",
   "execution_count": 11,
   "id": "841ba9eb",
   "metadata": {},
   "outputs": [],
   "source": [
    "Price = np.array(df[\"干基不含税到厂价\"].tolist()[:-2]).reshape(20,1)"
   ]
  },
  {
   "cell_type": "code",
   "execution_count": 12,
   "id": "ebfec418",
   "metadata": {},
   "outputs": [],
   "source": [
    "def get_S_ele(P):\n",
    "    M_lhs = np.dot(pp_S*np.dot(S,E) + np.dot(K,LOI),P) + np.dot(K, LOI_delta)\n",
    "    M_rhs = np.dot(LOI,P) + LOI_delta - np.dot(alpha*pp_S*S, np.array([1]*S.shape[1]).reshape(S.shape[1],1))\n",
    "    return(np.dot(S,(np.dot(E,P) + alpha*M_lhs / M_rhs)) / (np.dot(LOI,P) + LOI_delta))"
   ]
  },
  {
   "cell_type": "code",
   "execution_count": 13,
   "id": "cf9f49bd",
   "metadata": {},
   "outputs": [],
   "source": [
    "# P是配比，输入3"
   ]
  },
  {
   "cell_type": "code",
   "execution_count": 14,
   "id": "d0c2036c",
   "metadata": {},
   "outputs": [],
   "source": [
    "P_v = [\n",
    "    0.2,\n",
    "    0,\n",
    "    0.2,\n",
    "    0,\n",
    "    0.05,\n",
    "    0.05,\n",
    "    0,\n",
    "    0,\n",
    "    0.04,\n",
    "    0.04,\n",
    "    0.03,\n",
    "    0.06,\n",
    "    0.045,\n",
    "    0,\n",
    "    0,\n",
    "    0.05,\n",
    "    0,\n",
    "    0.03,\n",
    "    0.02,\n",
    "    0.03,\n",
    "]\n",
    "P = np.array(P_v).reshape(len(P_v),1)"
   ]
  },
  {
   "cell_type": "code",
   "execution_count": null,
   "id": "3823a043",
   "metadata": {},
   "outputs": [],
   "source": []
  },
  {
   "cell_type": "code",
   "execution_count": 22,
   "id": "5075dc7e",
   "metadata": {},
   "outputs": [],
   "source": [
    "#计算成分，单位为%，输出对应l_ele"
   ]
  },
  {
   "cell_type": "code",
   "execution_count": 23,
   "id": "454d1706",
   "metadata": {},
   "outputs": [
    {
     "data": {
      "text/plain": [
       "['TFe',\n",
       " 'SiO2',\n",
       " 'Al2O3',\n",
       " 'S',\n",
       " 'P',\n",
       " 'TiO2',\n",
       " 'MnO',\n",
       " 'MgO',\n",
       " 'CaO',\n",
       " 'K2O',\n",
       " 'Na2O',\n",
       " 'ZnO',\n",
       " 'H2O',\n",
       " 'As',\n",
       " 'Cr',\n",
       " 'FeO']"
      ]
     },
     "execution_count": 23,
     "metadata": {},
     "output_type": "execute_result"
    }
   ],
   "source": [
    "l_ele"
   ]
  },
  {
   "cell_type": "code",
   "execution_count": 24,
   "id": "fcd207eb",
   "metadata": {},
   "outputs": [
    {
     "data": {
      "text/plain": [
       "array([5.28857518e-01, 5.74788585e-02, 5.92583808e-03, 1.05652697e-03,\n",
       "       1.03750446e-03, 4.11452017e-03, 3.86415080e-03, 2.77440555e-02,\n",
       "       1.14877955e-01, 4.28585512e-04, 5.78780667e-04, 5.40239399e-05,\n",
       "       9.57052126e-02, 4.63156864e-05, 4.18495309e-05, 1.45814021e-02])"
      ]
     },
     "execution_count": 24,
     "metadata": {},
     "output_type": "execute_result"
    }
   ],
   "source": [
    "get_S_ele(P).squeeze()"
   ]
  },
  {
   "cell_type": "code",
   "execution_count": 27,
   "id": "f9f30767",
   "metadata": {},
   "outputs": [
    {
     "data": {
      "text/html": [
       "<div>\n",
       "<style scoped>\n",
       "    .dataframe tbody tr th:only-of-type {\n",
       "        vertical-align: middle;\n",
       "    }\n",
       "\n",
       "    .dataframe tbody tr th {\n",
       "        vertical-align: top;\n",
       "    }\n",
       "\n",
       "    .dataframe thead th {\n",
       "        text-align: right;\n",
       "    }\n",
       "</style>\n",
       "<table border=\"1\" class=\"dataframe\">\n",
       "  <thead>\n",
       "    <tr style=\"text-align: right;\">\n",
       "      <th></th>\n",
       "      <th>成分</th>\n",
       "      <th>占比%</th>\n",
       "    </tr>\n",
       "  </thead>\n",
       "  <tbody>\n",
       "    <tr>\n",
       "      <th>0</th>\n",
       "      <td>TFe</td>\n",
       "      <td>52.89</td>\n",
       "    </tr>\n",
       "    <tr>\n",
       "      <th>1</th>\n",
       "      <td>SiO2</td>\n",
       "      <td>5.75</td>\n",
       "    </tr>\n",
       "    <tr>\n",
       "      <th>2</th>\n",
       "      <td>Al2O3</td>\n",
       "      <td>0.59</td>\n",
       "    </tr>\n",
       "    <tr>\n",
       "      <th>3</th>\n",
       "      <td>S</td>\n",
       "      <td>0.11</td>\n",
       "    </tr>\n",
       "    <tr>\n",
       "      <th>4</th>\n",
       "      <td>P</td>\n",
       "      <td>0.10</td>\n",
       "    </tr>\n",
       "    <tr>\n",
       "      <th>5</th>\n",
       "      <td>TiO2</td>\n",
       "      <td>0.41</td>\n",
       "    </tr>\n",
       "    <tr>\n",
       "      <th>6</th>\n",
       "      <td>MnO</td>\n",
       "      <td>0.39</td>\n",
       "    </tr>\n",
       "    <tr>\n",
       "      <th>7</th>\n",
       "      <td>MgO</td>\n",
       "      <td>2.77</td>\n",
       "    </tr>\n",
       "    <tr>\n",
       "      <th>8</th>\n",
       "      <td>CaO</td>\n",
       "      <td>11.49</td>\n",
       "    </tr>\n",
       "    <tr>\n",
       "      <th>9</th>\n",
       "      <td>K2O</td>\n",
       "      <td>0.04</td>\n",
       "    </tr>\n",
       "    <tr>\n",
       "      <th>10</th>\n",
       "      <td>Na2O</td>\n",
       "      <td>0.06</td>\n",
       "    </tr>\n",
       "    <tr>\n",
       "      <th>11</th>\n",
       "      <td>ZnO</td>\n",
       "      <td>0.01</td>\n",
       "    </tr>\n",
       "    <tr>\n",
       "      <th>12</th>\n",
       "      <td>H2O</td>\n",
       "      <td>9.57</td>\n",
       "    </tr>\n",
       "    <tr>\n",
       "      <th>13</th>\n",
       "      <td>As</td>\n",
       "      <td>0.00</td>\n",
       "    </tr>\n",
       "    <tr>\n",
       "      <th>14</th>\n",
       "      <td>Cr</td>\n",
       "      <td>0.00</td>\n",
       "    </tr>\n",
       "    <tr>\n",
       "      <th>15</th>\n",
       "      <td>FeO</td>\n",
       "      <td>1.46</td>\n",
       "    </tr>\n",
       "  </tbody>\n",
       "</table>\n",
       "</div>"
      ],
      "text/plain": [
       "       成分    占比%\n",
       "0     TFe  52.89\n",
       "1    SiO2   5.75\n",
       "2   Al2O3   0.59\n",
       "3       S   0.11\n",
       "4       P   0.10\n",
       "5    TiO2   0.41\n",
       "6     MnO   0.39\n",
       "7     MgO   2.77\n",
       "8     CaO  11.49\n",
       "9     K2O   0.04\n",
       "10   Na2O   0.06\n",
       "11    ZnO   0.01\n",
       "12    H2O   9.57\n",
       "13     As   0.00\n",
       "14     Cr   0.00\n",
       "15    FeO   1.46"
      ]
     },
     "execution_count": 27,
     "metadata": {},
     "output_type": "execute_result"
    }
   ],
   "source": [
    "df_成分 = pd.DataFrame()\n",
    "df_成分[\"成分\"] = l_ele\n",
    "df_成分[\"占比%\"] = [round(i,2) for i in get_S_ele(P).squeeze()*100]\n",
    "# 输出1\n",
    "df_成分"
   ]
  },
  {
   "cell_type": "code",
   "execution_count": 17,
   "id": "e4d3f43d",
   "metadata": {},
   "outputs": [],
   "source": [
    "#输出2 成本"
   ]
  },
  {
   "cell_type": "code",
   "execution_count": 55,
   "id": "8c91f49e",
   "metadata": {},
   "outputs": [],
   "source": [
    "O_v= np.dot(P.T, Price)\n",
    "P_s1 = O_v.squeeze()"
   ]
  },
  {
   "cell_type": "code",
   "execution_count": 56,
   "id": "014ed6e1",
   "metadata": {},
   "outputs": [],
   "source": [
    "P_Q = df.iloc[-2, 1]\n",
    "P_K = df.iloc[-1, 1]"
   ]
  },
  {
   "cell_type": "code",
   "execution_count": 60,
   "id": "4b557997",
   "metadata": {},
   "outputs": [],
   "source": [
    "P_F = (pp_S*(1-alpha)*P_s1 + pp_Q*P_Q + pp_K*P_K)/100/(1 - pp_S/100*alpha)"
   ]
  },
  {
   "cell_type": "code",
   "execution_count": 74,
   "id": "0a96f94e",
   "metadata": {},
   "outputs": [
    {
     "data": {
      "text/plain": [
       "862.8437995482356"
      ]
     },
     "execution_count": 74,
     "metadata": {},
     "output_type": "execute_result"
    }
   ],
   "source": [
    "(P_s1 + alpha*P_F)/(np.sum([i*j for i,j in zip(df.iloc[:-2][\"烧存\"].tolist(),P_v)])/100+alpha)"
   ]
  },
  {
   "cell_type": "code",
   "execution_count": null,
   "id": "cfb2a7b1",
   "metadata": {},
   "outputs": [],
   "source": []
  },
  {
   "cell_type": "code",
   "execution_count": null,
   "id": "f493461c",
   "metadata": {},
   "outputs": [],
   "source": []
  },
  {
   "cell_type": "code",
   "execution_count": null,
   "id": "77910e96",
   "metadata": {},
   "outputs": [],
   "source": []
  },
  {
   "cell_type": "code",
   "execution_count": null,
   "id": "7b80a994",
   "metadata": {},
   "outputs": [],
   "source": []
  },
  {
   "cell_type": "code",
   "execution_count": null,
   "id": "02e44ff3",
   "metadata": {},
   "outputs": [],
   "source": []
  },
  {
   "cell_type": "code",
   "execution_count": null,
   "id": "217a4aaa",
   "metadata": {},
   "outputs": [],
   "source": []
  },
  {
   "cell_type": "code",
   "execution_count": null,
   "id": "88f92b43",
   "metadata": {},
   "outputs": [],
   "source": []
  },
  {
   "cell_type": "code",
   "execution_count": 1,
   "id": "c8e82118",
   "metadata": {},
   "outputs": [
    {
     "ename": "NameError",
     "evalue": "name 'df' is not defined",
     "output_type": "error",
     "traceback": [
      "\u001b[0;31m---------------------------------------------------------------------------\u001b[0m",
      "\u001b[0;31mNameError\u001b[0m                                 Traceback (most recent call last)",
      "Input \u001b[0;32mIn [1]\u001b[0m, in \u001b[0;36m<cell line: 1>\u001b[0;34m()\u001b[0m\n\u001b[0;32m----> 1\u001b[0m \u001b[43mdf\u001b[49m\n",
      "\u001b[0;31mNameError\u001b[0m: name 'df' is not defined"
     ]
    }
   ],
   "source": [
    "df"
   ]
  },
  {
   "cell_type": "code",
   "execution_count": null,
   "id": "24f0eec2",
   "metadata": {},
   "outputs": [],
   "source": []
  }
 ],
 "metadata": {
  "kernelspec": {
   "display_name": "Python 3 (ipykernel)",
   "language": "python",
   "name": "python3"
  },
  "language_info": {
   "codemirror_mode": {
    "name": "ipython",
    "version": 3
   },
   "file_extension": ".py",
   "mimetype": "text/x-python",
   "name": "python",
   "nbconvert_exporter": "python",
   "pygments_lexer": "ipython3",
   "version": "3.9.12"
  }
 },
 "nbformat": 4,
 "nbformat_minor": 5
}
